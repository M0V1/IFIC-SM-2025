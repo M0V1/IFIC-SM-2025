!pip install  numpy pandas uproot matplotlib mplhep

import pandas as pd
import numpy as np
import uproot 
import matplotlib.pyplot as plt
import mplhep as hep

hep.style.use(hep.style.ATLAS)
ttbar = "ODEO_FEB2025_v0_4lep_mc_410470.PhPy8EG_A14_ttbar_hdamp258p75_nonallhad.4lep.root"
tree= "analysis"

with uproot.open(ttbar) as file1:
    tree1 = file1[tree]
    print(tree1.keys()) 


