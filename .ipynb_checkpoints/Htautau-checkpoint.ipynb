{
 "cells": [
  {
   "cell_type": "code",
   "execution_count": 1,
   "id": "d33df3d0-e00c-4f4b-a2cb-aeb64e7cbd1c",
   "metadata": {},
   "outputs": [
    {
     "name": "stdout",
     "output_type": "stream",
     "text": [
      "\u001b[33mDEPRECATION: Loading egg at /Users/morvan/.local/lib/python3.11/site-packages/classy-3.2.3-py3.11-macosx-11.1-arm64.egg is deprecated. pip 24.3 will enforce this behaviour change. A possible replacement is to use pip for package installation.. Discussion can be found at https://github.com/pypa/pip/issues/12330\u001b[0m\u001b[33m\n",
      "\u001b[0mRequirement already satisfied: numpy in /Users/morvan/anaconda3/envs/root_env/lib/python3.11/site-packages (1.26.4)\n",
      "Requirement already satisfied: pandas in /Users/morvan/anaconda3/envs/root_env/lib/python3.11/site-packages (2.2.2)\n",
      "Requirement already satisfied: uproot in /Users/morvan/anaconda3/envs/root_env/lib/python3.11/site-packages (5.3.3)\n",
      "Requirement already satisfied: matplotlib in /Users/morvan/anaconda3/envs/root_env/lib/python3.11/site-packages (3.8.4)\n",
      "Requirement already satisfied: mplhep in /Users/morvan/anaconda3/envs/root_env/lib/python3.11/site-packages (0.3.48)\n",
      "Requirement already satisfied: python-dateutil>=2.8.2 in /Users/morvan/anaconda3/envs/root_env/lib/python3.11/site-packages (from pandas) (2.9.0)\n",
      "Requirement already satisfied: pytz>=2020.1 in /Users/morvan/anaconda3/envs/root_env/lib/python3.11/site-packages (from pandas) (2024.1)\n",
      "Requirement already satisfied: tzdata>=2022.7 in /Users/morvan/anaconda3/envs/root_env/lib/python3.11/site-packages (from pandas) (2024.1)\n",
      "Requirement already satisfied: awkward>=2.4.6 in /Users/morvan/anaconda3/envs/root_env/lib/python3.11/site-packages (from uproot) (2.6.3)\n",
      "Requirement already satisfied: cramjam>=2.5.0 in /Users/morvan/anaconda3/envs/root_env/lib/python3.11/site-packages (from uproot) (2.8.3)\n",
      "Requirement already satisfied: fsspec in /Users/morvan/anaconda3/envs/root_env/lib/python3.11/site-packages (from uproot) (2024.3.1)\n",
      "Requirement already satisfied: packaging in /Users/morvan/anaconda3/envs/root_env/lib/python3.11/site-packages (from uproot) (24.0)\n",
      "Requirement already satisfied: contourpy>=1.0.1 in /Users/morvan/anaconda3/envs/root_env/lib/python3.11/site-packages (from matplotlib) (1.2.1)\n",
      "Requirement already satisfied: cycler>=0.10 in /Users/morvan/anaconda3/envs/root_env/lib/python3.11/site-packages (from matplotlib) (0.12.1)\n",
      "Requirement already satisfied: fonttools>=4.22.0 in /Users/morvan/anaconda3/envs/root_env/lib/python3.11/site-packages (from matplotlib) (4.51.0)\n",
      "Requirement already satisfied: kiwisolver>=1.3.1 in /Users/morvan/anaconda3/envs/root_env/lib/python3.11/site-packages (from matplotlib) (1.4.5)\n",
      "Requirement already satisfied: pillow>=8 in /Users/morvan/anaconda3/envs/root_env/lib/python3.11/site-packages (from matplotlib) (10.3.0)\n",
      "Requirement already satisfied: pyparsing>=2.3.1 in /Users/morvan/anaconda3/envs/root_env/lib/python3.11/site-packages (from matplotlib) (3.1.2)\n",
      "Requirement already satisfied: mplhep-data in /Users/morvan/anaconda3/envs/root_env/lib/python3.11/site-packages (from mplhep) (0.0.3)\n",
      "Requirement already satisfied: uhi>=0.2.0 in /Users/morvan/anaconda3/envs/root_env/lib/python3.11/site-packages (from mplhep) (0.4.0)\n",
      "Requirement already satisfied: awkward-cpp==32 in /Users/morvan/anaconda3/envs/root_env/lib/python3.11/site-packages (from awkward>=2.4.6->uproot) (32)\n",
      "Requirement already satisfied: importlib-metadata>=4.13.0 in /Users/morvan/anaconda3/envs/root_env/lib/python3.11/site-packages (from awkward>=2.4.6->uproot) (7.1.0)\n",
      "Requirement already satisfied: six>=1.5 in /Users/morvan/anaconda3/envs/root_env/lib/python3.11/site-packages (from python-dateutil>=2.8.2->pandas) (1.16.0)\n",
      "Requirement already satisfied: zipp>=0.5 in /Users/morvan/anaconda3/envs/root_env/lib/python3.11/site-packages (from importlib-metadata>=4.13.0->awkward>=2.4.6->uproot) (3.17.0)\n"
     ]
    }
   ],
   "source": [
    "!pip install  numpy pandas uproot matplotlib mplhep\n",
    "\n"
   ]
  },
  {
   "cell_type": "code",
   "execution_count": 2,
   "id": "7199f64d-c6f0-4f55-be2a-5d262a4f0666",
   "metadata": {},
   "outputs": [
    {
     "name": "stdout",
     "output_type": "stream",
     "text": [
      "['num_events', 'sum_of_weights', 'sum_of_weights_squared', 'xsec', 'kfac', 'filteff', 'TriggerMatch_DILEPTON', 'ScaleFactor_MLTRIGGER', 'ScaleFactor_PILEUP', 'ScaleFactor_FTAG', 'mcWeight', 'channelNumber', 'eventNumber', 'runNumber', 'trigML', 'trigP', 'trigDT', 'trigT', 'trigE', 'trigDM', 'trigDE', 'trigM', 'trigMET', 'ScaleFactor_BTAG', 'ScaleFactor_JVT', 'jet_n', 'jet_pt', 'jet_eta', 'jet_phi', 'jet_e', 'jet_btag_quantile', 'jet_jvt', 'largeRJet_n', 'largeRJet_pt', 'largeRJet_eta', 'largeRJet_phi', 'largeRJet_e', 'largeRJet_m', 'largeRJet_D2', 'jet_pt_jer1', 'jet_pt_jer2', 'ScaleFactor_ELE', 'ScaleFactor_MUON', 'ScaleFactor_LepTRIGGER', 'ScaleFactor_MuTRIGGER', 'ScaleFactor_ElTRIGGER', 'lep_n', 'lep_type', 'lep_pt', 'lep_eta', 'lep_phi', 'lep_e', 'lep_charge', 'lep_ptvarcone30', 'lep_topoetcone20', 'lep_z0', 'lep_d0', 'lep_d0sig', 'lep_isTightID', 'lep_isMediumID', 'lep_isLooseID', 'lep_isTightIso', 'lep_isLooseIso', 'lep_isTrigMatched', 'ScaleFactor_PHOTON', 'photon_n', 'photon_pt', 'photon_eta', 'photon_phi', 'photon_e', 'photon_ptcone20', 'photon_topoetcone40', 'photon_isLooseID', 'photon_isTightID', 'photon_isLooseIso', 'photon_isTightIso', 'ScaleFactor_TAU', 'ScaleFactor_TauTRIGGER', 'ScaleFactor_DiTauTRIGGER', 'tau_n', 'tau_pt', 'tau_eta', 'tau_phi', 'tau_e', 'tau_charge', 'tau_nTracks', 'tau_isTight', 'tau_RNNJetScore', 'tau_RNNEleScore', 'truth_jet_n', 'truth_jet_pt', 'truth_jet_eta', 'truth_jet_phi', 'truth_jet_m', 'truth_elec_n', 'truth_elec_pt', 'truth_elec_eta', 'truth_elec_phi', 'truth_muon_n', 'truth_muon_pt', 'truth_muon_eta', 'truth_muon_phi', 'truth_tau_n', 'truth_tau_pt', 'truth_tau_eta', 'truth_tau_phi', 'truth_photon_n', 'truth_photon_pt', 'truth_photon_eta', 'truth_photon_phi', 'truth_met', 'truth_met_phi', 'met', 'met_phi', 'met_mpx', 'met_mpy']\n"
     ]
    }
   ],
   "source": [
    "import pandas as pd\n",
    "import numpy as np\n",
    "import uproot \n",
    "import matplotlib.pyplot as plt\n",
    "import mplhep as hep\n",
    "\n",
    "hep.style.use(hep.style.ATLAS)\n",
    "ttbar = \"ODEO_FEB2025_v0_4lep_mc_410470.PhPy8EG_A14_ttbar_hdamp258p75_nonallhad.4lep.root\"\n",
    "tree= \"analysis\"\n",
    "\n",
    "with uproot.open(ttbar) as file1:\n",
    "    tree1 = file1[tree]\n",
    "    print(tree1.keys()) "
   ]
  },
  {
   "cell_type": "code",
   "execution_count": null,
   "id": "8f32c32b-cdf9-4f50-b59b-b7ff1c579b82",
   "metadata": {},
   "outputs": [],
   "source": []
  }
 ],
 "metadata": {
  "kernelspec": {
   "display_name": "Python 3 (ipykernel)",
   "language": "python",
   "name": "python3"
  },
  "language_info": {
   "codemirror_mode": {
    "name": "ipython",
    "version": 3
   },
   "file_extension": ".py",
   "mimetype": "text/x-python",
   "name": "python",
   "nbconvert_exporter": "python",
   "pygments_lexer": "ipython3",
   "version": "3.11.9"
  }
 },
 "nbformat": 4,
 "nbformat_minor": 5
}
